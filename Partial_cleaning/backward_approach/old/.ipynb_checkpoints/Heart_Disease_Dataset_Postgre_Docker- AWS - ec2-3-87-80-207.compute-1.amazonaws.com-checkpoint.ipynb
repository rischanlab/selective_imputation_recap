{
 "cells": [
  {
   "cell_type": "code",
   "execution_count": 1,
   "metadata": {},
   "outputs": [],
   "source": [
    "import sys\n",
    "import pandas as pd\n",
    "import psycopg2\n",
    "import numpy as np\n",
    "from collections import defaultdict\n",
    "from math import log,pi\n",
    "from decimal import Decimal\n",
    "import timeit\n",
    "import math\n",
    "\n",
    "from scipy.stats import wasserstein_distance\n",
    "from scipy.spatial.distance import euclidean, chebyshev, cityblock, jaccard"
   ]
  },
  {
   "cell_type": "code",
   "execution_count": 2,
   "metadata": {},
   "outputs": [],
   "source": [
    "hostname = '157.230.34.253'\n",
    "port=54320\n",
    "username = 'postgres'\n",
    "password = 'mafrur'\n",
    "database = 'data_cleaning'\n",
    "\n",
    "continuous=['age', 'restbp', 'chol', 'thalach', 'ca', 'oldpeak']\n",
    "discrete=['sex', 'cp', 'fbs', 'restecg', 'exang', 'slope', 'thal']\n",
    "aggregate=['sum','avg','max','min']\n",
    "\n",
    "k=10\n",
    "num_partitions=20\n",
    "delta= 0.01"
   ]
  },
  {
   "cell_type": "code",
   "execution_count": 3,
   "metadata": {},
   "outputs": [],
   "source": [
    "connection = psycopg2.connect( host=hostname, port = port, user=username, password=password, dbname=database )"
   ]
  },
  {
   "cell_type": "code",
   "execution_count": 4,
   "metadata": {},
   "outputs": [],
   "source": [
    "def get_all_views():\n",
    "    views=[]\n",
    "    for f in aggregate:\n",
    "        for a in discrete:\n",
    "            for m in continuous:\n",
    "                views.append((a,m,f))\n",
    "    return views\n",
    "\n",
    "def get_query_result( conn, query ) :\n",
    "    cur = conn.cursor()\n",
    "    cur.execute( query )\n",
    "    return cur\n",
    "\n",
    "def normalize(f_list_1,f_list_2):\n",
    "    f_list_1=[float(x) for x in f_list_1]\n",
    "    f_list_2=[float(x) for x in f_list_2]\n",
    "    sum_1=sum(f_list_1)\n",
    "    sum_2=sum(f_list_2)\n",
    "    norm_1 = [i/sum_1 for i in f_list_1]\n",
    "    norm_2=[i/sum_2 for i in f_list_2]\n",
    "    return norm_1,norm_2\n",
    "\n",
    "def get_utility(f_list_1,f_list_2):\n",
    "    nf_1,nf_2=normalize(f_list_1,f_list_2)\n",
    "    #return kl.entropy(nf_1,nf_2)\n",
    "    distance = math.sqrt(sum([(a - b) ** 2 for a, b in zip(nf_1, nf_2)]))\n",
    "    return distance\n",
    "\n",
    "\n",
    "def get_top_k(dict_kl, k):\n",
    "    return sorted(dict_kl.items(), key= lambda item: item[1], reverse=True)[:k]\n",
    "\n",
    "def get_iter(d):\n",
    "    if isinstance(d,dict):\n",
    "        return d.items()\n",
    "    else: #cursor\n",
    "        return d.fetchall()\n",
    "\n",
    "def get_agg_lists(o_1,o_2):\n",
    "    dict_res = defaultdict(list)\n",
    "    f_list_1 = []\n",
    "    f_list_2 = []\n",
    "    for k,v in get_iter(o_1):\n",
    "        if v != 0:\n",
    "            dict_res[k].append(v)\n",
    "        else:\n",
    "            dict_res[k].append(Decimal(1e-10))\n",
    "    for k,v in get_iter(o_2):\n",
    "        if k not in dict_res:\n",
    "            dict_res[k].append(Decimal(1e-10))\n",
    "        if v != 0:\n",
    "            dict_res[k].append(v)\n",
    "        else:\n",
    "            dict_res[k].append(Decimal(1e-10))\n",
    "    for k,v in dict_res.items():\n",
    "        if len(v) != 2:\n",
    "            dict_res[k].append(Decimal(1e-10))\n",
    "    for i in dict_res.values():\n",
    "        f_list_1.append(i[0])\n",
    "        f_list_2.append(i[1])\n",
    "    return f_list_1,f_list_2"
   ]
  },
  {
   "cell_type": "code",
   "execution_count": 5,
   "metadata": {},
   "outputs": [
    {
     "name": "stdout",
     "output_type": "stream",
     "text": [
      "38.27816802800001\n"
     ]
    },
    {
     "data": {
      "text/plain": [
       "[(('slope', 'oldpeak', 'min'), [0.8164965806827771]),\n",
       " (('thal', 'oldpeak', 'sum'), [0.7397531937984]),\n",
       " (('thal', 'thalach', 'sum'), [0.718509703070422]),\n",
       " (('thal', 'restbp', 'sum'), [0.7184788449523011]),\n",
       " (('cp', 'ca', 'sum'), [0.7127041745439795]),\n",
       " (('slope', 'ca', 'sum'), [0.71039762892971]),\n",
       " (('thal', 'chol', 'sum'), [0.7101716497003995]),\n",
       " (('thal', 'age', 'sum'), [0.6856068992498252]),\n",
       " (('cp', 'oldpeak', 'sum'), [0.6667266901851018]),\n",
       " (('exang', 'oldpeak', 'sum'), [0.6604832829078432])]"
      ]
     },
     "execution_count": 5,
     "metadata": {},
     "output_type": "execute_result"
    }
   ],
   "source": [
    "dict_kl=defaultdict(list)\n",
    "# dict_wd=defaultdict(list)\n",
    "# dict_euclidean=defaultdict(list)\n",
    "# dict_chebychev=defaultdict(list)\n",
    "# dict_manhattan=defaultdict(list)\n",
    "# dict_jaccard=defaultdict(list)\n",
    "\n",
    "\n",
    "\n",
    "views=get_all_views()\n",
    "runtime = []\n",
    "for a,m,f in views:\n",
    "    #print (a,f,m)\n",
    "    q1=\"select \"+a+\", \"+f+\"(\"+m+\") from heart where num ='disease' and \"+a+\" is not null group by \"+a+\" order by \"+a+\";\"\n",
    "    q2=\"select \"+a+\", \"+f+\"(\"+m+\") from heart where num ='no_disease' and \"+a+\" is not null group by \"+a+\" order by \"+a+\";\"\n",
    "    #print(q1)\n",
    "    startTime = timeit.default_timer()\n",
    "    res_1=get_query_result(connection, q1)\n",
    "    res_2=get_query_result(connection, q2)\n",
    "    stopTime = timeit.default_timer()\n",
    "    runtime.append(stopTime-startTime)\n",
    "    f_list_1,f_list_2 = get_agg_lists(res_1,res_2)\n",
    "    dict_kl[a,m,f].append(get_utility(f_list_1,f_list_2))\n",
    "\n",
    "print(sum(runtime))\n",
    "get_top_k(dict_kl, k)"
   ]
  }
 ],
 "metadata": {
  "kernelspec": {
   "display_name": "Python 3",
   "language": "python",
   "name": "python3"
  },
  "language_info": {
   "codemirror_mode": {
    "name": "ipython",
    "version": 3
   },
   "file_extension": ".py",
   "mimetype": "text/x-python",
   "name": "python",
   "nbconvert_exporter": "python",
   "pygments_lexer": "ipython3",
   "version": "3.8.3"
  }
 },
 "nbformat": 4,
 "nbformat_minor": 4
}
