{
 "cells": [
  {
   "cell_type": "code",
   "execution_count": 2,
   "metadata": {},
   "outputs": [],
   "source": [
    "import sys\n",
    "import pandas as pd\n",
    "import psycopg2\n",
    "import numpy as np\n"
   ]
  },
  {
   "cell_type": "code",
   "execution_count": 7,
   "metadata": {
    "collapsed": true
   },
   "outputs": [],
   "source": [
    "hostname = 'localhost'\n",
    "port=5432\n",
    "username = 'postgres'\n",
    "password = 'zenvisage'\n",
    "database = 'seedb_data'\n",
    "\n",
    "continuous=['age', 'restbp', 'chol', 'thalach', 'ca', 'oldpeak']\n",
    "discrete=['sex', 'cp', 'fbs', 'restecg', 'exang', 'slope', 'thal']\n",
    "aggregate=['sum','avg','max','min']\n",
    "\n",
    "k=10\n",
    "num_partitions=20\n",
    "delta= 0.01"
   ]
  },
  {
   "cell_type": "code",
   "execution_count": 8,
   "metadata": {},
   "outputs": [],
   "source": [
    "connection = psycopg2.connect( host=hostname, port = port, user=username, password=password, dbname=database )"
   ]
  },
  {
   "cell_type": "code",
   "execution_count": 5,
   "metadata": {},
   "outputs": [
    {
     "name": "stdout",
     "output_type": "stream",
     "text": [
      "0.37103989000000026\n"
     ]
    },
    {
     "data": {
      "text/plain": [
       "[(('slope', 'oldpeak', 'min'), [0.8164965806827771]),\n",
       " (('thal', 'oldpeak', 'sum'), [0.7397531937984001]),\n",
       " (('thal', 'thalach', 'sum'), [0.718509703070422]),\n",
       " (('thal', 'restbp', 'sum'), [0.7184788449523011]),\n",
       " (('cp', 'ca', 'sum'), [0.7127041745439795]),\n",
       " (('slope', 'ca', 'sum'), [0.71039762892971]),\n",
       " (('thal', 'chol', 'sum'), [0.7101716497003995]),\n",
       " (('thal', 'age', 'sum'), [0.6856068992498252]),\n",
       " (('cp', 'oldpeak', 'sum'), [0.6667266901851016]),\n",
       " (('exang', 'oldpeak', 'sum'), [0.6604832829078432])]"
      ]
     },
     "execution_count": 5,
     "metadata": {},
     "output_type": "execute_result"
    }
   ],
   "source": [
    "\n",
    "q1=\"select \"+a+\", \"+f+\"(\"+m+\") from heart where num ='disease' and \"+a+\" is not null group by \"+a+\" order by \"+a+\";\"\n",
    "res_1=get_query_result(connection, q1)\n"
   ]
  }
 ],
 "metadata": {
  "kernelspec": {
   "display_name": "Python 3",
   "language": "python",
   "name": "python3"
  },
  "language_info": {
   "codemirror_mode": {
    "name": "ipython",
    "version": 3
   },
   "file_extension": ".py",
   "mimetype": "text/x-python",
   "name": "python",
   "nbconvert_exporter": "python",
   "pygments_lexer": "ipython3",
   "version": "3.6.3"
  }
 },
 "nbformat": 4,
 "nbformat_minor": 4
}
